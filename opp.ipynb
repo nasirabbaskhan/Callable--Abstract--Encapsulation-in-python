{
 "cells": [
  {
   "cell_type": "markdown",
   "metadata": {},
   "source": [
    "## Callabe\n",
    "\n",
    "  * Defining callable function\n",
    "     * ``` def __call__(self,) -> None:```\n",
    "\n",
    "  * calling the callable function with two mathod\n",
    "     * ```1: obj3.__call__() ```\n",
    "     * ```2:  obj3() ```"
   ]
  },
  {
   "cell_type": "code",
   "execution_count": 4,
   "metadata": {},
   "outputs": [
    {
     "name": "stdout",
     "output_type": "stream",
     "text": [
      "You have called the callable function\n",
      "You have called the callable function\n"
     ]
    }
   ],
   "source": [
    "class Example():\n",
    "    def __call__(self) -> None:\n",
    "        print(\"You have called the callable function\")\n",
    "obj:Example = Example()\n",
    "obj.__call__() # call the callable method with first way\n",
    "obj() # call the callable method with second way "
   ]
  },
  {
   "cell_type": "code",
   "execution_count": 18,
   "metadata": {},
   "outputs": [
    {
     "name": "stdout",
     "output_type": "stream",
     "text": [
      "You have called the callable function with value of : \t 2\n",
      "You have called the callable function with value of : \t 4\n"
     ]
    }
   ],
   "source": [
    "class Example1():\n",
    "    \n",
    "    def __call__(self,value:int) -> None:\n",
    "        print(f\"You have called the callable function with value of : \\t {value}\")\n",
    "obj:Example1 = Example1()\n",
    "obj(2)\n",
    "obj.__call__(4)\n",
    "\n"
   ]
  },
  {
   "cell_type": "code",
   "execution_count": 1,
   "metadata": {},
   "outputs": [
    {
     "name": "stdout",
     "output_type": "stream",
     "text": [
      "You have called the callable function with 5 \n",
      "You have called the callable function with Nasir \n"
     ]
    }
   ],
   "source": [
    "class Example2():\n",
    "    \n",
    "    def __call__(self,value:int) -> None:\n",
    "        print(f\"You have called the callable function with value of : \\t {value}\")\n",
    "        \n",
    "    \n",
    "        \n",
    "    def __call__(self,word:str) -> None:\n",
    "        print(f\"You have called the callable function with {word} \")\n",
    "obj:Example2 = Example2()\n",
    "obj(5)\n",
    "\n",
    "obj(\"Nasir\")"
   ]
  },
  {
   "cell_type": "code",
   "execution_count": 29,
   "metadata": {},
   "outputs": [
    {
     "name": "stdout",
     "output_type": "stream",
     "text": [
      "Human2 is eating Biryani\n",
      "Human2 is eating Nihari\n"
     ]
    }
   ],
   "source": [
    "from typing import Any\n",
    "\n",
    "\n",
    "class Human2():\n",
    "    def eating(self,food:str)->None:\n",
    "        print(f\"Human2 is eating {food}\")\n",
    "        \n",
    "    def __call__(self,) -> None:\n",
    "        self.eating(\"Nihari\")\n",
    "        \n",
    "obj3:Human2= Human2()\n",
    "obj3.eating(\"Biryani\")\n",
    "\n",
    "obj3() # calling the callable function"
   ]
  },
  {
   "cell_type": "code",
   "execution_count": 3,
   "metadata": {},
   "outputs": [
    {
     "name": "stdout",
     "output_type": "stream",
     "text": [
      "[4]\n",
      "[4, 8]\n",
      "[4, 8, 4]\n",
      "your average is 5.333333333333333\n"
     ]
    }
   ],
   "source": [
    "from typing import Any\n",
    "\n",
    "\n",
    "class Average():\n",
    "    def __init__(self) -> None:\n",
    "        self.data:list[int]= []\n",
    "        \n",
    "    def avg(self, number:int) -> Any: \n",
    "        self.data.append(number)\n",
    "        print(self.data)\n",
    "        return sum(self.data) / len(self.data)\n",
    "    \n",
    "    \n",
    "avj_obj:Average = Average()\n",
    "average:float= avj_obj.avg(4)\n",
    "average:float= avj_obj.avg(8)\n",
    "average:float= avj_obj.avg(4)\n",
    "\n",
    "\n",
    "print(f\"your average is {average}\")"
   ]
  },
  {
   "cell_type": "code",
   "execution_count": 40,
   "metadata": {},
   "outputs": [
    {
     "name": "stdout",
     "output_type": "stream",
     "text": [
      "[3]\n",
      "[3, 4]\n",
      "[3, 4, 3]\n",
      "[3, 4, 3, 2]\n",
      "your average is 3.0\n"
     ]
    }
   ],
   "source": [
    "from typing import Any\n",
    "\n",
    "\n",
    "class Average():\n",
    "    def __init__(self) -> None:\n",
    "        self.data:list[int]= []\n",
    "        \n",
    "    def __call__(self, number:int) -> Any: # replace the avg into callable and will chang calling the method\n",
    "        self.data.append(number)\n",
    "        print(self.data)\n",
    "        return sum(self.data) / len(self.data)\n",
    "    \n",
    "    \n",
    "avj_obj:Average = Average()\n",
    "average:float= avj_obj(3)\n",
    "average:float= avj_obj(4)\n",
    "average:float= avj_obj(3)\n",
    "average:float= avj_obj(2)\n",
    "\n",
    "print(f\"your average is {average}\")\n",
    "        "
   ]
  },
  {
   "cell_type": "markdown",
   "metadata": {},
   "source": [
    "## Module"
   ]
  },
  {
   "cell_type": "code",
   "execution_count": 43,
   "metadata": {},
   "outputs": [
    {
     "name": "stdout",
     "output_type": "stream",
     "text": [
      "You have called constructor of imported module!\n",
      "<piaic.nasir.mycode.MyCodeClass object at 0x000001B7F98E5B80>\n"
     ]
    }
   ],
   "source": [
    "#  from folder->folder->file import (chunks of code)\n",
    "from piaic.nasir.mycode import MyCodeClass\n",
    "\n",
    "obj:MyCodeClass= MyCodeClass()\n",
    "print(obj)"
   ]
  },
  {
   "cell_type": "markdown",
   "metadata": {},
   "source": [
    "## Access Modifier\n",
    "  * public\n",
    "     * ```self.name```\n",
    "\n",
    "  * protected\n",
    "     * ```self._name```\n",
    "     \n",
    "  * private\n",
    "     * ```self.__name```\n",
    "     * call by ```objectName._className__attributeName```"
   ]
  },
  {
   "cell_type": "code",
   "execution_count": 42,
   "metadata": {},
   "outputs": [
    {
     "name": "stdout",
     "output_type": "stream",
     "text": [
      "888-088777\n",
      "989899\n"
     ]
    }
   ],
   "source": [
    "class Piaic():\n",
    "    def __init__(self) -> None:\n",
    "        # self.name          public\n",
    "        self.piaic_help_line= \"888-088777\"\n",
    "        \n",
    "        # self._name          protected\n",
    "        self._total_expense= \"565445453\"\n",
    "        \n",
    "        # self.__name          private\n",
    "        self.__test_anouncement= \"4 october\"\n",
    "        \n",
    "obj4:Piaic= Piaic()\n",
    "print(obj4.piaic_help_line) # access the public attribut\n",
    "\n",
    "obj4.piaic_help_line= \"989899\" # piaic_help_line is public it can changed\n",
    "print(obj4.piaic_help_line)\n",
    "\n",
    "\n",
    "\n"
   ]
  },
  {
   "cell_type": "code",
   "execution_count": 43,
   "metadata": {},
   "outputs": [
    {
     "name": "stdout",
     "output_type": "stream",
     "text": [
      "565445453\n",
      "76677676667667766676767\n"
     ]
    }
   ],
   "source": [
    "obj4:Piaic= Piaic()\n",
    "print(obj4._total_expense) # access protected attribute\n",
    "obj4._total_expense= \"76677676667667766676767\" # it also can be changed\n",
    "print(obj4._total_expense)"
   ]
  },
  {
   "cell_type": "code",
   "execution_count": 44,
   "metadata": {},
   "outputs": [
    {
     "name": "stdout",
     "output_type": "stream",
     "text": [
      "888-088777\n"
     ]
    },
    {
     "ename": "AttributeError",
     "evalue": "'Piaic' object has no attribute '__test_anouncement'",
     "output_type": "error",
     "traceback": [
      "\u001b[1;31m---------------------------------------------------------------------------\u001b[0m",
      "\u001b[1;31mAttributeError\u001b[0m                            Traceback (most recent call last)",
      "Cell \u001b[1;32mIn[44], line 3\u001b[0m\n\u001b[0;32m      1\u001b[0m obj4:Piaic\u001b[38;5;241m=\u001b[39m Piaic()\n\u001b[0;32m      2\u001b[0m \u001b[38;5;28mprint\u001b[39m(obj4\u001b[38;5;241m.\u001b[39mpiaic_help_line)\n\u001b[1;32m----> 3\u001b[0m \u001b[38;5;28mprint\u001b[39m(\u001b[43mobj4\u001b[49m\u001b[38;5;241;43m.\u001b[39;49m\u001b[43m__test_anouncement\u001b[49m) \u001b[38;5;66;03m# private attribute can not be access\u001b[39;00m\n",
      "\u001b[1;31mAttributeError\u001b[0m: 'Piaic' object has no attribute '__test_anouncement'"
     ]
    }
   ],
   "source": [
    "obj4:Piaic= Piaic()\n",
    "print(obj4.piaic_help_line)\n",
    "print(obj4.__test_anouncement) # private attribute can not be access\n"
   ]
  },
  {
   "cell_type": "code",
   "execution_count": 47,
   "metadata": {},
   "outputs": [
    {
     "name": "stdout",
     "output_type": "stream",
     "text": [
      "888-088777\n",
      "4 october\n"
     ]
    }
   ],
   "source": [
    "obj4:Piaic= Piaic()\n",
    "print(obj4.piaic_help_line)\n",
    "print(obj4._Piaic__test_anouncement) # private attribute access by given method\n"
   ]
  },
  {
   "cell_type": "markdown",
   "metadata": {},
   "source": [
    "## Encapsulation \n",
    "private method or attributes can not acceassble \n",
    "\n",
    "for access of private method you have need to access throhg public method \n",
    "\n",
    "this technique is called Encapsulation"
   ]
  },
  {
   "cell_type": "code",
   "execution_count": 24,
   "metadata": {},
   "outputs": [
    {
     "name": "stdout",
     "output_type": "stream",
     "text": [
      "Successfully db connected \n",
      "user is invalid\n"
     ]
    }
   ],
   "source": [
    "class StudenLogin():\n",
    "    def __init__(self) -> None:\n",
    "        self.__username:str =\"admin\" # private attribute\n",
    "        self.__password:str = \"admin\"\n",
    "        \n",
    "    def __dbConectivity(self,username:str,password:str): # private methed\n",
    "        print(f\"Successfully db connected \")\n",
    "        if username==self.__username and password== self.__password:\n",
    "            print(\"user is valid\")\n",
    "        else:\n",
    "            print(\"user is invalid\")\n",
    "        \n",
    "    def student_login(self,user:str,pass1): # public methed that access the private method\n",
    "        self.__dbConectivity(user,pass1) # by accessing the student_login public methed the __dbConectivity private method will be access easily\n",
    "        \n",
    "    def student_update(self,password):\n",
    "        self.__password= password\n",
    "        \n",
    "    def display_information(self):\n",
    "        print(f\"Hello Dear ,{self.__username} and password {self.__password}\")\n",
    "    \n",
    "student:StudenLogin= StudenLogin()\n",
    "student.student_login(\"admin\",\"233\")\n",
    "\n"
   ]
  },
  {
   "cell_type": "code",
   "execution_count": 12,
   "metadata": {},
   "outputs": [
    {
     "name": "stdout",
     "output_type": "stream",
     "text": [
      "Successfully db connected \n",
      "user is valid\n"
     ]
    }
   ],
   "source": [
    "\n",
    "student.student_login(\"admin\",\"admin\")"
   ]
  },
  {
   "cell_type": "code",
   "execution_count": 23,
   "metadata": {},
   "outputs": [
    {
     "name": "stdout",
     "output_type": "stream",
     "text": [
      "Hello Dear ,admin and password 123\n"
     ]
    }
   ],
   "source": [
    "\n",
    "student.display_information()"
   ]
  },
  {
   "cell_type": "code",
   "execution_count": 21,
   "metadata": {},
   "outputs": [
    {
     "name": "stdout",
     "output_type": "stream",
     "text": [
      "Hello Dear ,admin and password 123\n"
     ]
    }
   ],
   "source": [
    "student.student_update(\"123\")\n",
    "student.display_information()\n"
   ]
  },
  {
   "cell_type": "code",
   "execution_count": 17,
   "metadata": {},
   "outputs": [
    {
     "name": "stdout",
     "output_type": "stream",
     "text": [
      "Successfully db connected \n",
      "user is invalid\n"
     ]
    }
   ],
   "source": [
    "student.student_login(\"admin\",\"admin\")\n"
   ]
  },
  {
   "cell_type": "code",
   "execution_count": 18,
   "metadata": {},
   "outputs": [
    {
     "name": "stdout",
     "output_type": "stream",
     "text": [
      "Successfully db connected \n",
      "user is valid\n"
     ]
    }
   ],
   "source": [
    "student.student_login(\"admin\",\"123\")"
   ]
  },
  {
   "cell_type": "markdown",
   "metadata": {},
   "source": [
    "##  ``` __str__```"
   ]
  },
  {
   "cell_type": "code",
   "execution_count": 26,
   "metadata": {},
   "outputs": [
    {
     "name": "stdout",
     "output_type": "stream",
     "text": [
      "<__main__.Teacher object at 0x00000216BD005F40>\n"
     ]
    }
   ],
   "source": [
    "class Teacher():\n",
    "    def __init__(self,name:str) -> None:\n",
    "        self.name= name\n",
    "        \n",
    "techer:Teacher = Teacher(\"Sir Zia\")\n",
    "print(techer)"
   ]
  },
  {
   "cell_type": "code",
   "execution_count": 28,
   "metadata": {},
   "outputs": [
    {
     "name": "stdout",
     "output_type": "stream",
     "text": [
      "the teacher name is Sir Zia\n"
     ]
    }
   ],
   "source": [
    "class Teacher():\n",
    "    def __init__(self,name:str) -> None:\n",
    "        self.name= name\n",
    "        \n",
    "    def __str__(self) -> str:\n",
    "        return f\"the teacher name is {self.name}\"\n",
    "        \n",
    "techer:Teacher = Teacher(\"Sir Zia\")\n",
    "print(techer)"
   ]
  },
  {
   "cell_type": "code",
   "execution_count": 34,
   "metadata": {},
   "outputs": [
    {
     "name": "stdout",
     "output_type": "stream",
     "text": [
      "please use object with method name eg. objecname.methodName\n",
      "Sir Zia\n"
     ]
    }
   ],
   "source": [
    "class Teacher():\n",
    "    def __init__(self,name:str) -> None:\n",
    "        self.name= name\n",
    "        \n",
    "    def __str__(self) -> str:\n",
    "        return f\"please use object with method name eg. objecname.methodName\"\n",
    "        \n",
    "techer:Teacher = Teacher(\"Sir Zia\")\n",
    "print(techer) # when only object call then __str__ method call\n",
    "print(techer.name)"
   ]
  },
  {
   "cell_type": "markdown",
   "metadata": {},
   "source": [
    "## abstract Class\n",
    "abstract calss do not have real word object\n",
    "\n",
    "To get attributes and method of class you have must need to creat object\n",
    "\n",
    "The problem is that we can not create object of abstravt class\n",
    "\n",
    "``` How to get attributs and method of abstract class ?```\n",
    "\n",
    "for that purpose we have need to create of child class and from child class object we can get attributes and methodof abstract class"
   ]
  },
  {
   "cell_type": "code",
   "execution_count": 35,
   "metadata": {},
   "outputs": [
    {
     "ename": "TypeError",
     "evalue": "Can't instantiate abstract class Animal without an implementation for abstract method '__init__'",
     "output_type": "error",
     "traceback": [
      "\u001b[1;31m---------------------------------------------------------------------------\u001b[0m",
      "\u001b[1;31mTypeError\u001b[0m                                 Traceback (most recent call last)",
      "Cell \u001b[1;32mIn[35], line 8\u001b[0m\n\u001b[0;32m      5\u001b[0m         \u001b[38;5;28msuper\u001b[39m()\u001b[38;5;241m.\u001b[39m\u001b[38;5;21m__init__\u001b[39m()\n\u001b[0;32m      6\u001b[0m         \u001b[38;5;28mself\u001b[39m\u001b[38;5;241m.\u001b[39mliving_thing:\u001b[38;5;28mbool\u001b[39m\u001b[38;5;241m=\u001b[39m \u001b[38;5;28;01mTrue\u001b[39;00m\n\u001b[1;32m----> 8\u001b[0m abstract_obj:Animal\u001b[38;5;241m=\u001b[39m \u001b[43mAnimal\u001b[49m\u001b[43m(\u001b[49m\u001b[43m)\u001b[49m\n",
      "\u001b[1;31mTypeError\u001b[0m: Can't instantiate abstract class Animal without an implementation for abstract method '__init__'"
     ]
    }
   ],
   "source": [
    "from abc import ABC, abstractmethod\n",
    "# ABC = Abstract Base classes\n",
    "class Animal(ABC):\n",
    "    @abstractmethod\n",
    "    def __init__(self) -> None:\n",
    "        super().__init__()\n",
    "        self.living_thing:bool= True\n",
    "        \n",
    "abstract_obj:Animal= Animal() ## due to abstract class we can not create object \n",
    "    "
   ]
  },
  {
   "cell_type": "code",
   "execution_count": 36,
   "metadata": {},
   "outputs": [
    {
     "name": "stdout",
     "output_type": "stream",
     "text": [
      "True\n"
     ]
    }
   ],
   "source": [
    "from abc import ABC, abstractmethod\n",
    "# ABC = Abstract Base classes\n",
    "class Animal(ABC):\n",
    "    @abstractmethod\n",
    "    def __init__(self) -> None:\n",
    "        super().__init__()\n",
    "        self.living_thing:bool= True\n",
    "        \n",
    "class Cat(Animal):\n",
    "    def __init__(self) -> None:\n",
    "        super().__init__()\n",
    "        \n",
    "cat_obj:Cat = Cat()\n",
    "print (cat_obj.living_thing)"
   ]
  },
  {
   "cell_type": "code",
   "execution_count": 37,
   "metadata": {},
   "outputs": [
    {
     "ename": "TypeError",
     "evalue": "Can't instantiate abstract class Cat without an implementation for abstract method 'eating'",
     "output_type": "error",
     "traceback": [
      "\u001b[1;31m---------------------------------------------------------------------------\u001b[0m",
      "\u001b[1;31mTypeError\u001b[0m                                 Traceback (most recent call last)",
      "Cell \u001b[1;32mIn[37], line 20\u001b[0m\n\u001b[0;32m     16\u001b[0m         \u001b[38;5;28msuper\u001b[39m()\u001b[38;5;241m.\u001b[39m\u001b[38;5;21m__init__\u001b[39m()\n\u001b[0;32m     18\u001b[0m \u001b[38;5;66;03m## create error bcz if you define abstract methaon in parent abstract class \u001b[39;00m\n\u001b[0;32m     19\u001b[0m \u001b[38;5;66;03m# then you must have need to defin it in chiled class        \u001b[39;00m\n\u001b[1;32m---> 20\u001b[0m cat_obj:Cat \u001b[38;5;241m=\u001b[39m \u001b[43mCat\u001b[49m\u001b[43m(\u001b[49m\u001b[43m)\u001b[49m   \n\u001b[0;32m     21\u001b[0m \u001b[38;5;28mprint\u001b[39m (cat_obj\u001b[38;5;241m.\u001b[39mliving_thing)\n",
      "\u001b[1;31mTypeError\u001b[0m: Can't instantiate abstract class Cat without an implementation for abstract method 'eating'"
     ]
    }
   ],
   "source": [
    "from abc import ABC, abstractmethod\n",
    "# ABC = Abstract Base classes\n",
    "class Animal(ABC):\n",
    "    @abstractmethod\n",
    "    def __init__(self) -> None:\n",
    "        super().__init__()\n",
    "        self.living_thing:bool= True\n",
    "    \n",
    "    @abstractmethod   # asbtract metod\n",
    "    def eating(self,food:str):\n",
    "        return f\"Eating , {food}\"\n",
    "        \n",
    "        \n",
    "class Cat(Animal):\n",
    "    def __init__(self) -> None:\n",
    "        super().__init__()\n",
    "   \n",
    "## create error bcz if you define abstract methaon in parent abstract class \n",
    "# then you must have need to defin it in chiled class        \n",
    "cat_obj:Cat = Cat()   \n",
    "print (cat_obj.living_thing)"
   ]
  },
  {
   "cell_type": "code",
   "execution_count": 40,
   "metadata": {},
   "outputs": [
    {
     "name": "stdout",
     "output_type": "stream",
     "text": [
      "True\n"
     ]
    },
    {
     "data": {
      "text/plain": [
       "' parent Eating , Halwa puri'"
      ]
     },
     "execution_count": 40,
     "metadata": {},
     "output_type": "execute_result"
    }
   ],
   "source": [
    "from abc import ABC, abstractmethod\n",
    "# ABC = Abstract Base classes\n",
    "class Animal(ABC):\n",
    "    @abstractmethod\n",
    "    def __init__(self) -> None:\n",
    "        super().__init__()\n",
    "        self.living_thing:bool= True\n",
    "    \n",
    "    @abstractmethod   # asbtract metod\n",
    "    def eating(self,food:str):\n",
    "        return f\" parent Eating , {food}\"\n",
    "        \n",
    "        \n",
    "class Cat(Animal):\n",
    "    def __init__(self) -> None:\n",
    "        super().__init__()\n",
    "    def eating(self, food: str):\n",
    "        return super().eating(food)\n",
    "   \n",
    "        \n",
    "cat_obj:Cat = Cat()   \n",
    "print (cat_obj.living_thing)\n",
    "cat_obj.eating('Halwa puri')\n"
   ]
  }
 ],
 "metadata": {
  "kernelspec": {
   "display_name": "Python 3",
   "language": "python",
   "name": "python3"
  },
  "language_info": {
   "codemirror_mode": {
    "name": "ipython",
    "version": 3
   },
   "file_extension": ".py",
   "mimetype": "text/x-python",
   "name": "python",
   "nbconvert_exporter": "python",
   "pygments_lexer": "ipython3",
   "version": "3.12.3"
  }
 },
 "nbformat": 4,
 "nbformat_minor": 2
}
